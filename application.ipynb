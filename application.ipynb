{
 "cells": [
  {
   "cell_type": "code",
   "execution_count": 1,
   "metadata": {},
   "outputs": [],
   "source": [
    "from flask import Flask, render_template, request, redirect, url_for\n",
    "import numpy as np\n",
    "import PIL\n",
    "import cv2\n",
    "import matplotlib.pyplot as plt\n",
    "import face_recognition as face_r\n",
    "import pymysql\n",
    "import datetime"
   ]
  },
  {
   "cell_type": "code",
   "execution_count": 2,
   "metadata": {},
   "outputs": [],
   "source": [
    "app = Flask(__name__)"
   ]
  },
  {
   "cell_type": "code",
   "execution_count": 3,
   "metadata": {},
   "outputs": [],
   "source": [
    "@app.route('/')\n",
    "def home():\n",
    "    return render_template('index.html')"
   ]
  },
  {
   "cell_type": "code",
   "execution_count": 4,
   "metadata": {},
   "outputs": [],
   "source": [
    "@app.route('/register/', methods = [\"POST\", \"GET\"])\n",
    "def register():\n",
    "    if request.method == \"POST\":\n",
    "        conn = pymysql.connect(host = 'localhost', user = 'root', database = 'Project', password = 'L0srudra333@')\n",
    "        cur_1 = conn.cursor()\n",
    "        roll_no = request.form[\"roll_no\"]\n",
    "        f_name = request.form[\"fname\"]\n",
    "        img = cv2.imread(request.form[\"img\"])\n",
    "        face_enc = face_r.face_encodings(img)\n",
    "        \n",
    "        if(len(face_enc) == 0):\n",
    "            num_row, num_col = img.shape[:2]\n",
    "            rotation_matrix = cv2.getRotationMatrix2D((num_col/2, num_row/2), -90, 1)\n",
    "            rotated_img = cv2.warpAffine(img, rotation_matrix, (num_col, num_row))\n",
    "            face_enc = face_r.face_encodings(rotated_img)\n",
    "            if(len(face_enc)==0):\n",
    "                num_row, num_col = rotated_img.shape[:2]\n",
    "                rotation_matrix = cv2.getRotationMatrix2D((num_col/2, num_row/2), -90, 1)\n",
    "                rotated_img = cv2.warpAffine(rotated_img, rotation_matrix, (num_col, num_row))\n",
    "                face_enc = face_r.face_encodings(rotated_img)\n",
    "                \n",
    "                if(len(face_enc) == 0):\n",
    "                    num_row, num_col = rotated_img.shape[:2]\n",
    "                    rotation_matrix = cv2.getRotationMatrix2D((num_col/2, num_row/2), -90, 1)\n",
    "                    rotated_img = cv2.warpAffine(rotated_img, rotation_matrix, (num_col, num_row))\n",
    "                    face_enc = face_r.face_encodings(rotated_img)\n",
    "        \n",
    "        if(len(face_enc) == 1):\n",
    "            qry = 'insert into Student_info(name, roll_no, face_enc) values(%s, %s, %s)'\n",
    "            param = (str(f_name), int(roll_no), str(face_enc))\n",
    "            cur_1.execute(qry, param)\n",
    "            conn.commit()\n",
    "            return redirect(url_for('home'))\n",
    "        else:\n",
    "            return \"registration failed !! TRY AGIAN :):)\"\n",
    "        \n",
    "    else:\n",
    "        print('Registration start.............!!')\n",
    "        return render_template('login.html')"
   ]
  },
  {
   "cell_type": "code",
   "execution_count": 5,
   "metadata": {},
   "outputs": [],
   "source": [
    "@app.route('/attendance/', methods = [\"POST\", \"GET\"])\n",
    "def Attendance():\n",
    "    if request.method == \"POST\":\n",
    "        conn = pymysql.connect(host = 'localhost', user = 'root', database = 'Project', password = 'L0srudra333@')\n",
    "        cur = conn.cursor()\n",
    "        f_name = request.form['fname']\n",
    "        roll_no = request.form['roll_no']\n",
    "        img = cv2.imread(request.form['img'])\n",
    "        \n",
    "        face_loc = face_r.face_locations(img, model = 'cnn')\n",
    "        top, right, bottom, left = face_loc[0]\n",
    "        img = img[top:bottom, left:right]\n",
    "        face_enc = face_r.face_encodings(img)\n",
    "        \n",
    "        qry = 'select face_enc from Student_info where roll_no = %s'\n",
    "        param = (roll_no)\n",
    "        cur.execute(qry, param)\n",
    "        face_enc_ = cur.fetchall()[0][0]\n",
    "        \n",
    "        face_e = []\n",
    "        face_enc_= face_enc_[8:-3]\n",
    "        for ii in face_enc_.split(',\\n'):\n",
    "            for i in ii.split(','):\n",
    "                face_e.append(float(i))\n",
    "                \n",
    "            \n",
    "        face_e = np.array(face_e, dtype = 'float64')    \n",
    "        result = face_r.compare_faces(face_e, face_enc)[0]\n",
    "        now = datetime.date.today()\n",
    "        conn = pymysql.connect(host = 'localhost', user = 'root', database = 'Project', password = 'L0srudra333@')\n",
    "        cur = conn.cursor()\n",
    "        \n",
    "        if(result):\n",
    "            qry = f'update Student_attendance set `00{roll_no}` = 1 where date = \"{now}\"'\n",
    "            cur.execute(qry)\n",
    "            return f'Dear {f_name}: your attendance has been recorded'\n",
    "        \n",
    "        else:\n",
    "            return 'Try Again :)'\n",
    "     \n",
    "        \n",
    "    else:\n",
    "        print(\"varifying.........:)\")\n",
    "        return render_template('attendance.html')"
   ]
  },
  {
   "cell_type": "code",
   "execution_count": null,
   "metadata": {},
   "outputs": [
    {
     "name": "stdout",
     "output_type": "stream",
     "text": [
      " * Serving Flask app \"__main__\" (lazy loading)\n",
      " * Environment: production\n",
      "\u001b[31m   WARNING: This is a development server. Do not use it in a production deployment.\u001b[0m\n",
      "\u001b[2m   Use a production WSGI server instead.\u001b[0m\n",
      " * Debug mode: off\n"
     ]
    },
    {
     "name": "stderr",
     "output_type": "stream",
     "text": [
      " * Running on http://127.0.0.1:5000/ (Press CTRL+C to quit)\n",
      "127.0.0.1 - - [22/Nov/2020 01:27:40] \"\u001b[37mGET / HTTP/1.1\u001b[0m\" 200 -\n",
      "127.0.0.1 - - [22/Nov/2020 01:27:40] \"\u001b[33mGET /favicon.ico HTTP/1.1\u001b[0m\" 404 -\n",
      "127.0.0.1 - - [22/Nov/2020 01:27:43] \"\u001b[37mGET /attendance/ HTTP/1.1\u001b[0m\" 200 -\n"
     ]
    },
    {
     "name": "stdout",
     "output_type": "stream",
     "text": [
      "varifying.........:)\n"
     ]
    },
    {
     "name": "stderr",
     "output_type": "stream",
     "text": [
      "127.0.0.1 - - [22/Nov/2020 01:27:49] \"\u001b[37mGET /register/ HTTP/1.1\u001b[0m\" 200 -\n"
     ]
    },
    {
     "name": "stdout",
     "output_type": "stream",
     "text": [
      "Registration start.............!!\n"
     ]
    },
    {
     "name": "stderr",
     "output_type": "stream",
     "text": [
      "127.0.0.1 - - [22/Nov/2020 01:29:43] \"\u001b[33mGET /login/ HTTP/1.1\u001b[0m\" 404 -\n",
      "127.0.0.1 - - [22/Nov/2020 01:29:43] \"\u001b[33mGET /favicon.ico HTTP/1.1\u001b[0m\" 404 -\n"
     ]
    }
   ],
   "source": [
    "if(__name__ == \"__main__\"):\n",
    "    app.run()"
   ]
  },
  {
   "cell_type": "code",
   "execution_count": null,
   "metadata": {},
   "outputs": [],
   "source": []
  }
 ],
 "metadata": {
  "kernelspec": {
   "display_name": "Python 3",
   "language": "python",
   "name": "python3"
  },
  "language_info": {
   "codemirror_mode": {
    "name": "ipython",
    "version": 3
   },
   "file_extension": ".py",
   "mimetype": "text/x-python",
   "name": "python",
   "nbconvert_exporter": "python",
   "pygments_lexer": "ipython3",
   "version": "3.8.6"
  }
 },
 "nbformat": 4,
 "nbformat_minor": 4
}
